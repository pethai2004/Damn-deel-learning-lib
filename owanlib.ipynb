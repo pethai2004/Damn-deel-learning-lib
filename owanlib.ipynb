{
 "cells": [
  {
   "cell_type": "code",
   "execution_count": 4,
   "id": "2dc2e911",
   "metadata": {},
   "outputs": [],
   "source": [
    "import numpy as np\n",
    "import matplotlib.pyplot as plt\n",
    "import os\n",
    "import tensorflow as tf"
   ]
  },
  {
   "cell_type": "code",
   "execution_count": null,
   "id": "35268486",
   "metadata": {},
   "outputs": [],
   "source": []
  },
  {
   "cell_type": "code",
   "execution_count": 5,
   "id": "66575ac5",
   "metadata": {},
   "outputs": [],
   "source": [
    "import imageio\n",
    "im = imageio.imread('/Users/pethainapanaruemit/Downloads/background/deer.jpeg')\n",
    "def image(image, s=(117,117)):\n",
    "    return tf.image.resize(im, s, preserve_aspect_ratio=False, antialias=False, name=None)/255"
   ]
  },
  {
   "cell_type": "code",
   "execution_count": 70,
   "id": "dcbb3cad",
   "metadata": {},
   "outputs": [],
   "source": [
    "class SimpleDense():\n",
    "    def __init__(self, n_inputs, n_nodes, activation=None):\n",
    "        self.act = activation\n",
    "        self.n_inputs = n_inputs\n",
    "        self.n_nodes = n_nodes\n",
    "        self.W = np.random.rand(n_nodes, n_inputs)\n",
    "        self.b = np.random.rand()\n",
    "        \n",
    "    def Activation(self, x):\n",
    "        return 1/(1+np.exp(-x))\n",
    "    \n",
    "    def forward(self, inputs): #inputs shape = (n, 1)\n",
    "        inputs = inputs.reshape(self.n_inputs, 1)\n",
    "        linear_out = np.dot(self.W, inputs) + b\n",
    "        out = linear_out\n",
    "        if self.act==None:\n",
    "            pass\n",
    "        else:\n",
    "            out = self.Activation(linear_out)\n",
    "        return out\n",
    "    \n",
    "    def backward(self, inputs, epochs):\n",
    "        gradies = {}\n",
    "        \n",
    "        for i in range(epochs):\n",
    "            pass\n",
    "            \n",
    "        \n",
    "    def predict(self, inputs):\n",
    "        o = np.dot(self.W, inputs) + b #unnormalized log prob\n",
    "        print(o.shape)\n",
    "        prob = np.exp(o)/np.sum(np.exp(0), keepdims=True)\n",
    "        return np.argmax(prob)\n",
    "    \n",
    "    def build(self, inputs):\n",
    "        pass\n",
    "        "
   ]
  },
  {
   "cell_type": "code",
   "execution_count": 71,
   "id": "e28ff820",
   "metadata": {},
   "outputs": [],
   "source": [
    "W = np.random.rand(10, 8)\n",
    "b = np.random.rand(1)\n",
    "i = np.random.rand(8, 1)\n",
    "o = np.dot(W, i) + b"
   ]
  },
  {
   "cell_type": "code",
   "execution_count": 72,
   "id": "3f85a994",
   "metadata": {},
   "outputs": [],
   "source": [
    "Dense = SimpleDense(n_inputs=8, n_nodes=10)"
   ]
  },
  {
   "cell_type": "code",
   "execution_count": 73,
   "id": "a478ba10",
   "metadata": {},
   "outputs": [
    {
     "name": "stdout",
     "output_type": "stream",
     "text": [
      "(10, 1)\n"
     ]
    },
    {
     "data": {
      "text/plain": [
       "4"
      ]
     },
     "execution_count": 73,
     "metadata": {},
     "output_type": "execute_result"
    }
   ],
   "source": [
    "Dense.predict(i)"
   ]
  },
  {
   "cell_type": "code",
   "execution_count": null,
   "id": "dd2a7cba",
   "metadata": {},
   "outputs": [],
   "source": []
  }
 ],
 "metadata": {
  "kernelspec": {
   "display_name": "datasciece",
   "language": "python",
   "name": "datasciece"
  },
  "language_info": {
   "codemirror_mode": {
    "name": "ipython",
    "version": 3
   },
   "file_extension": ".py",
   "mimetype": "text/x-python",
   "name": "python",
   "nbconvert_exporter": "python",
   "pygments_lexer": "ipython3",
   "version": "3.7.7"
  }
 },
 "nbformat": 4,
 "nbformat_minor": 5
}
