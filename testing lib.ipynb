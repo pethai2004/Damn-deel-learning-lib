{
 "cells": [
  {
   "cell_type": "code",
   "execution_count": 337,
   "id": "522677e7",
   "metadata": {},
   "outputs": [],
   "source": [
    "import numpy as np\n",
    "import scipy\n",
    "from collections import defaultdict\n",
    "import matplotlib.pyplot as plt"
   ]
  },
  {
   "cell_type": "code",
   "execution_count": 257,
   "id": "dcd6173c",
   "metadata": {},
   "outputs": [],
   "source": [
    "class Variable:\n",
    "    def __init__(self, val, local_g=[]):\n",
    "        self.val = val\n",
    "        self.local_g = local_g\n",
    "    def __add__(self, other):\n",
    "        return add(self, other)\n",
    "    \n",
    "    def __mul__(self, other):\n",
    "        return mul(self, other)\n",
    "    \n",
    "    def __sub__(self, other):\n",
    "        return add(self, neg(other))\n",
    "\n",
    "    def __truediv__(self, other):\n",
    "        return mul(self, inv(other)) \n",
    "def add(a, b):\n",
    "    val = a.val + b.val\n",
    "    grad = ((a, 1), (b, 1))\n",
    "    return Variable(val, grad)\n",
    "def neg(a):\n",
    "    val = -1 * a.val\n",
    "    grad = ((a, -1),)\n",
    "    return Variable(val, grad)\n",
    "def mul(a, b):\n",
    "    val = a.val * b.val\n",
    "    grad = ((a, b.val), (b, a.val))\n",
    "    return Variable(val, grad)\n",
    "def inv(a):\n",
    "    val = 1 / a.val\n",
    "    grad = ((a, -1/(a.val**2)),)\n",
    "    return Variable(val, grad)\n",
    "def exp(a):\n",
    "    val = np.exp(a.val)\n",
    "    grad = ((a, a.val),)\n",
    "    return Variable(val, grad)\n",
    "def log(a):\n",
    "    val = np.log(a.val)\n",
    "    grad = ((a, 1/a.val),)\n",
    "    return Variable(val, grad)\n",
    "def square(a):\n",
    "    val = a.val * a.val\n",
    "    grad = ((a, 2 * a.val),)\n",
    "    return Variable(val, grad) "
   ]
  },
  {
   "cell_type": "code",
   "execution_count": 271,
   "id": "c87d9b40",
   "metadata": {},
   "outputs": [],
   "source": [
    "def f(a, b):\n",
    "    return add(square(mul(a, b)), neg(inv(exp(add(a, b)))))\n",
    "def F(a, b):\n",
    "    return (a * b)**2 - 1/(np.exp(a+ b))"
   ]
  },
  {
   "cell_type": "code",
   "execution_count": 325,
   "id": "153fa300",
   "metadata": {},
   "outputs": [],
   "source": [
    "def get_G(variable):\n",
    "    G = defaultdict(lambda: 0)\n",
    "    def compute_G(variable, p_val):\n",
    "        for c, locG in variable.local_g:\n",
    "            p_to_c = locG * p_val\n",
    "            G[c] = G[c] + p_to_c # G with respect child, just step step step\n",
    "            compute_G(c, p_to_c)\n",
    "    compute_G(variable, p_val = 1) # dF/dF , call compute_G\n",
    "    return G"
   ]
  },
  {
   "cell_type": "code",
   "execution_count": 326,
   "id": "3ae44b44",
   "metadata": {},
   "outputs": [],
   "source": [
    "a = Variable(13)\n",
    "b = Variable(3)\n",
    "V = f(a, b)\n",
    "v = F(13, 3)"
   ]
  },
  {
   "cell_type": "code",
   "execution_count": 327,
   "id": "31c7db73",
   "metadata": {},
   "outputs": [],
   "source": [
    "gradient = get_G(V)\n",
    "D = (gradient[a], gradient[b])\n",
    "value = (a.val, b.val)"
   ]
  },
  {
   "cell_type": "code",
   "execution_count": 328,
   "id": "6ec8789b",
   "metadata": {},
   "outputs": [],
   "source": [
    "vals = np.vectorize(lambda x : Variable(x)) #array to Variable object"
   ]
  },
  {
   "cell_type": "code",
   "execution_count": 329,
   "id": "e652ab0b",
   "metadata": {},
   "outputs": [],
   "source": [
    "toval = np.vectorize(lambda var : var.val)"
   ]
  },
  {
   "cell_type": "code",
   "execution_count": 330,
   "id": "dd421552",
   "metadata": {},
   "outputs": [],
   "source": [
    "x = vals(np.random.rand(100))"
   ]
  },
  {
   "cell_type": "code",
   "execution_count": 331,
   "id": "d017bbf2",
   "metadata": {},
   "outputs": [],
   "source": [
    "np.random.seed(55555)\n",
    "W = vals(np.random.rand(100))\n",
    "x = vals(np.random.rand(50))\n",
    "y = vals(np.random.randint(0,2,(50)))"
   ]
  },
  {
   "cell_type": "code",
   "execution_count": 332,
   "id": "bb75435e",
   "metadata": {},
   "outputs": [],
   "source": [
    "x = vals(np.random.random(100))\n",
    "y_true = vals(np.random.randint(0,2, 50))\n",
    "weights = vals(np.random.rand(100, 50))"
   ]
  },
  {
   "cell_type": "code",
   "execution_count": 383,
   "id": "62c73660",
   "metadata": {},
   "outputs": [],
   "source": [
    "g = []\n",
    "def update_weights(weights, gradients, lrate):\n",
    "    for _, weight in np.ndenumerate(weights):\n",
    "        g.append(gradients[weight])\n",
    "        weight.val -= lrate * gradients[weight]"
   ]
  },
  {
   "cell_type": "code",
   "execution_count": 384,
   "id": "81afdaa9",
   "metadata": {},
   "outputs": [],
   "source": [
    "loss_vals = []\n",
    "lrate = 0.001\n",
    "for i in range(100):\n",
    "    y_pred = np.dot(x, weights)\n",
    "    loss = np.sum((y_true - y_pred) * (y_true - y_pred))\n",
    "    loss_vals.append(loss.val)\n",
    "    gradients = get_G(loss)\n",
    "    update_weights(weights, gradients, lrate)"
   ]
  },
  {
   "cell_type": "code",
   "execution_count": 385,
   "id": "46b09b7a",
   "metadata": {},
   "outputs": [
    {
     "data": {
      "image/png": "[encoded data removed]",
      "text/plain": [
       "<Figure size 432x288 with 1 Axes>"
      ]
     },
     "metadata": {
      "needs_background": "light"
     },
     "output_type": "display_data"
    }
   ],
   "source": [
    "plt.plot(loss_vals)\n",
    "plt.xlabel(\"Time step\")\n",
    "plt.ylabel(\"Loss\")\n",
    "plt.title(\"Single linear layer learning\")\n",
    "plt.show()"
   ]
  },
  {
   "cell_type": "code",
   "execution_count": 386,
   "id": "737a9fc5",
   "metadata": {},
   "outputs": [
    {
     "data": {
      "text/plain": [
       "[<matplotlib.lines.Line2D at 0x7f97b2d9a610>]"
      ]
     },
     "execution_count": 386,
     "metadata": {},
     "output_type": "execute_result"
    },
    {
     "data": {
      "image/png": "[encoded data removed]",
      "text/plain": [
       "<Figure size 432x288 with 1 Axes>"
      ]
     },
     "metadata": {
      "needs_background": "light"
     },
     "output_type": "display_data"
    }
   ],
   "source": [
    "plt.plot(g)"
   ]
  },
  {
   "cell_type": "code",
   "execution_count": null,
   "id": "0c452487",
   "metadata": {},
   "outputs": [],
   "source": []
  }
 ],
 "metadata": {
  "kernelspec": {
   "display_name": "datasciece",
   "language": "python",
   "name": "datasciece"
  },
  "language_info": {
   "codemirror_mode": {
    "name": "ipython",
    "version": 3
   },
   "file_extension": ".py",
   "mimetype": "text/x-python",
   "name": "python",
   "nbconvert_exporter": "python",
   "pygments_lexer": "ipython3",
   "version": "3.7.7"
  }
 },
 "nbformat": 4,
 "nbformat_minor": 5
}
